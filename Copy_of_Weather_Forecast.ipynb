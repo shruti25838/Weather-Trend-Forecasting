{
  "nbformat": 4,
  "nbformat_minor": 0,
  "metadata": {
    "colab": {
      "provenance": []
    },
    "kernelspec": {
      "name": "python3",
      "display_name": "Python 3"
    },
    "language_info": {
      "name": "python"
    }
  },
  "cells": [
    {
      "cell_type": "code",
      "source": [
        "from google.colab import files\n",
        "files.upload()"
      ],
      "metadata": {
        "id": "iyjDVazZA3Xg"
      },
      "execution_count": null,
      "outputs": []
    },
    {
      "cell_type": "markdown",
      "source": [
        "# Basic Assessment\n",
        "\n",
        "\n"
      ],
      "metadata": {
        "id": "aLsw53g9J5To"
      }
    },
    {
      "cell_type": "code",
      "source": [
        "import pandas as pd\n",
        "\n",
        "# Load the uploaded file\n",
        "df = pd.read_csv('GlobalWeatherRepository.csv')\n",
        "\n",
        "# Basic info\n",
        "print(\"Dataset shape:\", df.shape)\n",
        "df.head()\n"
      ],
      "metadata": {
        "id": "votv-RtmA7dm"
      },
      "execution_count": null,
      "outputs": []
    },
    {
      "cell_type": "markdown",
      "source": [
        " Data Cleaning & Preprocessing"
      ],
      "metadata": {
        "id": "GWapWd4GCOhU"
      }
    },
    {
      "cell_type": "code",
      "source": [
        "# Check missing values\n",
        "missing = df.isnull().sum()\n",
        "missing[missing > 0].sort_values(ascending=False)\n"
      ],
      "metadata": {
        "id": "t9MgR3nZCAj_"
      },
      "execution_count": null,
      "outputs": []
    },
    {
      "cell_type": "code",
      "source": [
        "threshold = 0.3\n",
        "df_cleaned = df.dropna(thresh=int((1 - threshold) * len(df)), axis=1)\n"
      ],
      "metadata": {
        "id": "kHgRdX26CS8a"
      },
      "execution_count": null,
      "outputs": []
    },
    {
      "cell_type": "code",
      "source": [
        "df_cleaned['last_updated'] = pd.to_datetime(df_cleaned['last_updated'], errors='coerce')\n"
      ],
      "metadata": {
        "id": "oDvTYEstCcM-"
      },
      "execution_count": null,
      "outputs": []
    },
    {
      "cell_type": "code",
      "source": [
        "from sklearn.preprocessing import MinMaxScaler\n",
        "\n",
        "scaler = MinMaxScaler()\n",
        "df_cleaned[['temperature_celsius', 'air_quality_PM2.5']] = scaler.fit_transform(\n",
        "    df_cleaned[['temperature_celsius', 'air_quality_PM2.5']]\n",
        ")\n"
      ],
      "metadata": {
        "id": "kJS6DLyOCjXS"
      },
      "execution_count": null,
      "outputs": []
    },
    {
      "cell_type": "markdown",
      "source": [
        "Exploratory Data Analysis (EDA)"
      ],
      "metadata": {
        "id": "zt2SiOicDce2"
      }
    },
    {
      "cell_type": "code",
      "source": [
        "import seaborn as sns\n",
        "import matplotlib.pyplot as plt\n",
        "\n",
        "plt.figure(figsize=(10, 5))\n",
        "sns.histplot(df_cleaned['temperature_celsius'], bins=30, kde=True, color='skyblue')\n",
        "plt.title('Global Temperature Distribution (°C)')\n",
        "plt.xlabel('Temperature (°C)')\n",
        "plt.ylabel('Frequency')\n",
        "plt.grid(True)\n",
        "plt.show()\n"
      ],
      "metadata": {
        "id": "R82F48d_Ddl_"
      },
      "execution_count": null,
      "outputs": []
    },
    {
      "cell_type": "code",
      "source": [
        "plt.figure(figsize=(10, 5))\n",
        "sns.histplot(df_cleaned['air_quality_PM2.5'], bins=30, kde=True, color='salmon')\n",
        "plt.title('Air Quality (PM2.5) Distribution')\n",
        "plt.xlabel('PM2.5')\n",
        "plt.ylabel('Frequency')\n",
        "plt.grid(True)\n",
        "plt.show()\n"
      ],
      "metadata": {
        "id": "5YbLePLtDiBP"
      },
      "execution_count": null,
      "outputs": []
    },
    {
      "cell_type": "code",
      "source": [
        "avg_temp_by_country = df_cleaned.groupby('country')['temperature_celsius'].mean().sort_values(ascending=False).head(10)\n",
        "\n",
        "plt.figure(figsize=(12, 6))\n",
        "sns.barplot(x=avg_temp_by_country.values, y=avg_temp_by_country.index, palette='coolwarm')\n",
        "plt.title('Top 10 Hottest Countries (Avg Temp °C)')\n",
        "plt.xlabel('Average Temperature (°C)')\n",
        "plt.ylabel('Country')\n",
        "plt.grid(True)\n",
        "plt.show()\n"
      ],
      "metadata": {
        "id": "1iQ2FGtJDkY6"
      },
      "execution_count": null,
      "outputs": []
    },
    {
      "cell_type": "code",
      "source": [
        "plt.figure(figsize=(12, 8))\n",
        "sns.heatmap(df_cleaned[['temperature_celsius', 'air_quality_PM2.5', 'latitude', 'longitude']].corr(), annot=True, cmap='YlGnBu')\n",
        "plt.title('Feature Correlation Heatmap')\n",
        "plt.show()\n"
      ],
      "metadata": {
        "id": "MSS5pmvLDobw"
      },
      "execution_count": null,
      "outputs": []
    },
    {
      "cell_type": "code",
      "source": [
        "df_cleaned['location_name'].value_counts().head(10)\n"
      ],
      "metadata": {
        "id": "JaleqHwTFzf6"
      },
      "execution_count": null,
      "outputs": []
    },
    {
      "cell_type": "code",
      "source": [
        "df_country = df_cleaned[df_cleaned['location_name'] == 'Andorra La Vella'].sort_values('last_updated')\n",
        "plt.figure(figsize=(12, 5))\n",
        "plt.plot(df_country['last_updated'], df_country['temperature_celsius'], marker='o', linestyle='-', color='green')\n",
        "plt.title('Temperature Over Time – Andorra La Vella')\n",
        "plt.xlabel('Date')\n",
        "plt.ylabel('Temperature (°C)')\n",
        "plt.grid(True)\n",
        "plt.xticks(rotation=45)\n",
        "plt.tight_layout()\n",
        "plt.show()\n"
      ],
      "metadata": {
        "id": "P5wF1ZNoDsH-"
      },
      "execution_count": null,
      "outputs": []
    },
    {
      "cell_type": "markdown",
      "source": [
        " Forecasting Model 1"
      ],
      "metadata": {
        "id": "DtA29TRzE1Hh"
      }
    },
    {
      "cell_type": "code",
      "source": [
        "tirana_df = df_cleaned[df_cleaned['location_name'] == 'Tirana'].copy()\n",
        "tirana_df = tirana_df.sort_values('last_updated')\n",
        "tirana_df.set_index('last_updated', inplace=True)\n",
        "tirana_df[['temperature_celsius']].plot(figsize=(12, 5), title='Temperature in Tirana')\n"
      ],
      "metadata": {
        "id": "ogrggkqBE2Av"
      },
      "execution_count": null,
      "outputs": []
    },
    {
      "cell_type": "code",
      "source": [
        "from statsmodels.tsa.stattools import adfuller\n",
        "\n",
        "result = adfuller(tirana_df['temperature_celsius'])\n",
        "print(f\"ADF Statistic: {result[0]}\")\n",
        "print(f\"p-value: {result[1]}\")\n"
      ],
      "metadata": {
        "id": "EcR735IfGovw"
      },
      "execution_count": null,
      "outputs": []
    },
    {
      "cell_type": "code",
      "source": [
        "# First-order differencing to remove trend\n",
        "tirana_df['temp_diff'] = tirana_df['temperature_celsius'].diff()\n",
        "\n",
        "# Drop NaN caused by differencing\n",
        "tirana_diff = tirana_df['temp_diff'].dropna()\n",
        "\n",
        "# Re-run ADF test on differenced data\n",
        "result_diff = adfuller(tirana_diff)\n",
        "print(f\"Differenced ADF Statistic: {result_diff[0]}\")\n",
        "print(f\"Differenced p-value: {result_diff[1]}\")\n"
      ],
      "metadata": {
        "id": "fU3EGf9xGxK9"
      },
      "execution_count": null,
      "outputs": []
    },
    {
      "cell_type": "code",
      "source": [
        "from statsmodels.tsa.arima.model import ARIMA\n",
        "import matplotlib.pyplot as plt\n",
        "import pandas as pd\n",
        "\n",
        "# Fit ARIMA model on original temperature series with differencing (d=1)\n",
        "model = ARIMA(tirana_df['temperature_celsius'], order=(1, 1, 1))\n",
        "model_fit = model.fit()\n",
        "\n",
        "# Forecast next 30 days\n",
        "forecast = model_fit.forecast(steps=30)\n",
        "arima_forecast = forecast  # <- Save to use in ensemble\n",
        "\n",
        "# Plot original + forecast\n",
        "plt.figure(figsize=(12, 5))\n",
        "plt.plot(tirana_df.index, tirana_df['temperature_celsius'], label='Actual')\n",
        "plt.plot(pd.date_range(start=tirana_df.index[-1], periods=30, freq='D'),\n",
        "         forecast, color='red', label='Forecast')\n",
        "plt.title(\"Temperature Forecast – Tirana (ARIMA)\")\n",
        "plt.xlabel(\"Date\")\n",
        "plt.ylabel(\"Temperature (°C)\")\n",
        "plt.legend()\n",
        "plt.show()\n"
      ],
      "metadata": {
        "id": "mA7xh_f4HizB"
      },
      "execution_count": null,
      "outputs": []
    },
    {
      "cell_type": "markdown",
      "source": [
        "Forecasting Model 2\n"
      ],
      "metadata": {
        "id": "v_yV5xu6Ite4"
      }
    },
    {
      "cell_type": "code",
      "source": [
        "# Filter and prepare Kabul data\n",
        "kabul_df = df_cleaned[df_cleaned['location_name'] == 'Kabul'].copy()\n",
        "kabul_df = kabul_df.sort_values('last_updated')\n",
        "kabul_df.set_index('last_updated', inplace=True)\n",
        "\n",
        "# Plot to visualize trend\n",
        "kabul_df[['temperature_celsius']].plot(figsize=(12, 5), title='Temperature in Kabul')\n"
      ],
      "metadata": {
        "id": "Oj_q9CTdItRk"
      },
      "execution_count": null,
      "outputs": []
    },
    {
      "cell_type": "code",
      "source": [
        "from statsmodels.tsa.holtwinters import ExponentialSmoothing\n",
        "\n",
        "# Fit the model – no seasonality for simplicity\n",
        "ets_model = ExponentialSmoothing(\n",
        "    kabul_df['temperature_celsius'],\n",
        "    trend='add',\n",
        "    seasonal=None,\n",
        "    initialization_method='estimated'\n",
        ").fit()\n",
        "\n",
        "# Forecast next 30 days\n",
        "ets_forecast = ets_model.forecast(30)\n"
      ],
      "metadata": {
        "id": "O1oA4eVwI21R"
      },
      "execution_count": null,
      "outputs": []
    },
    {
      "cell_type": "code",
      "source": [
        "import matplotlib.pyplot as plt\n",
        "import pandas as pd\n",
        "\n",
        "# Generate future date index\n",
        "future_dates = pd.date_range(start=kabul_df.index[-1] + pd.Timedelta(days=1), periods=30)\n",
        "\n",
        "# Plot actual + forecast\n",
        "plt.figure(figsize=(12, 5))\n",
        "plt.plot(kabul_df.index, kabul_df['temperature_celsius'], label='Actual')\n",
        "plt.plot(future_dates, ets_forecast, label='Forecast (ETS)', color='green')\n",
        "plt.title('Temperature Forecast – Kabul (ETS)')\n",
        "plt.xlabel('Date')\n",
        "plt.ylabel('Temperature (°C)')\n",
        "plt.legend()\n",
        "plt.grid(True)\n",
        "plt.show()\n"
      ],
      "metadata": {
        "id": "OqZyK9dfI45z"
      },
      "execution_count": null,
      "outputs": []
    },
    {
      "cell_type": "markdown",
      "source": [
        "Model Evaluation (ARIMA vs ETS)"
      ],
      "metadata": {
        "id": "8tXxxPD2JGFB"
      }
    },
    {
      "cell_type": "code",
      "source": [
        "from sklearn.metrics import mean_absolute_error, mean_squared_error\n",
        "import numpy as np\n",
        "\n",
        "def evaluate_forecast(y_true, y_pred, model_name=\"Model\"):\n",
        "    mae = mean_absolute_error(y_true, y_pred)\n",
        "    rmse = np.sqrt(mean_squared_error(y_true, y_pred))\n",
        "    print(f\"{model_name} MAE: {mae:.4f}\")\n",
        "    print(f\"{model_name} RMSE: {rmse:.4f}\")\n"
      ],
      "metadata": {
        "id": "dLxp1XXYJFdr"
      },
      "execution_count": null,
      "outputs": []
    },
    {
      "cell_type": "code",
      "source": [
        "# Evaluation for ARIMA\n",
        "# Split Tirana data\n",
        "train_tirana = tirana_df['temperature_celsius'][:-30]\n",
        "test_tirana = tirana_df['temperature_celsius'][-30:]\n",
        "\n",
        "# Fit ARIMA\n",
        "from statsmodels.tsa.arima.model import ARIMA\n",
        "model_tirana = ARIMA(train_tirana, order=(1,1,1)).fit()\n",
        "\n",
        "# Forecast\n",
        "preds_tirana = model_tirana.forecast(30)\n",
        "\n",
        "# Evaluate\n",
        "evaluate_forecast(test_tirana, preds_tirana, model_name=\"ARIMA (Tirana)\")\n"
      ],
      "metadata": {
        "id": "V15w5ptnJJie"
      },
      "execution_count": null,
      "outputs": []
    },
    {
      "cell_type": "code",
      "source": [
        "#Evaluation fro ETS\n",
        "# Split Kabul data\n",
        "train_kabul = kabul_df['temperature_celsius'][:-30]\n",
        "test_kabul = kabul_df['temperature_celsius'][-30:]\n",
        "\n",
        "# Fit ETS\n",
        "ets_model_kabul = ExponentialSmoothing(\n",
        "    train_kabul, trend='add', seasonal=None, initialization_method='estimated'\n",
        ").fit()\n",
        "\n",
        "# Forecast\n",
        "preds_kabul = ets_model_kabul.forecast(30)\n",
        "\n",
        "# Evaluate\n",
        "evaluate_forecast(test_kabul, preds_kabul, model_name=\"ETS (Kabul)\")\n"
      ],
      "metadata": {
        "id": "bMjF7By5JMA5"
      },
      "execution_count": null,
      "outputs": []
    },
    {
      "cell_type": "markdown",
      "source": [
        "forecast model 3"
      ],
      "metadata": {
        "id": "7iqs6GuCX0-i"
      }
    },
    {
      "cell_type": "code",
      "source": [
        "# Prophet Forecasting for Yerevan\n",
        "from prophet import Prophet\n",
        "\n",
        "# Step 1: Prepare the data\n",
        "prophet_df = yerevan_df[['last_updated_epoch', 'temperature_celsius']].copy()\n",
        "prophet_df['ds'] = pd.to_datetime(prophet_df['last_updated_epoch'], unit='s')\n",
        "prophet_df['y'] = prophet_df['temperature_celsius']\n",
        "prophet_df = prophet_df[['ds', 'y']]\n",
        "\n",
        "# Step 2: Fit the model\n",
        "prophet_model = Prophet()\n",
        "prophet_model.fit(prophet_df)\n",
        "\n",
        "# Step 3: Forecast\n",
        "future = prophet_model.make_future_dataframe(periods=30)\n",
        "forecast_prophet = prophet_model.predict(future)\n",
        "\n",
        "# Step 4: Plot\n",
        "prophet_model.plot(forecast_prophet)\n",
        "plt.title(\"Prophet Forecast for Yerevan\")\n",
        "plt.show()"
      ],
      "metadata": {
        "id": "Xqyt25OpWppP"
      },
      "execution_count": null,
      "outputs": []
    },
    {
      "cell_type": "code",
      "source": [
        "yerevan_df['date'] = pd.to_datetime(yerevan_df['last_updated_epoch'], unit='s')\n"
      ],
      "metadata": {
        "id": "HfWWExCgZPuH"
      },
      "execution_count": null,
      "outputs": []
    },
    {
      "cell_type": "code",
      "source": [
        "from sklearn.metrics import mean_absolute_error, mean_squared_error\n",
        "import numpy as np\n",
        "\n",
        "# Set datetime as index\n",
        "yerevan_df.set_index('date', inplace=True)\n",
        "\n",
        "# Actual values: last 30 days\n",
        "actual_yerevan = yerevan_df['temperature_celsius'].iloc[-30:]\n",
        "\n",
        "# Forecasted values: first 30 predicted days from Prophet\n",
        "predicted_yerevan = forecast_prophet.set_index('ds')['yhat'].iloc[:30]\n",
        "\n",
        "# Align indexes for comparison\n",
        "actual_yerevan.index = predicted_yerevan.index\n",
        "\n",
        "# Compute metrics\n",
        "mae_yerevan = mean_absolute_error(actual_yerevan, predicted_yerevan)\n",
        "rmse_yerevan = np.sqrt(mean_squared_error(actual_yerevan, predicted_yerevan))\n",
        "\n",
        "print(f\"Prophet (Yerevan) MAE: {mae_yerevan:.4f}\")\n",
        "print(f\"Prophet (Yerevan) RMSE: {rmse_yerevan:.4f}\")\n"
      ],
      "metadata": {
        "id": "o1RRgJTHYojW"
      },
      "execution_count": null,
      "outputs": []
    },
    {
      "cell_type": "code",
      "source": [
        "# Ensemble Forecast: Prophet + ETS + ARIMA\n",
        "\n",
        "# Step 1: Align all forecasts to 30 future steps\n",
        "prophet_forecast_30 = forecast_prophet[['ds', 'yhat']].tail(30).reset_index(drop=True)\n",
        "ets_forecast_30 = pd.Series(ets_forecast[:30]).reset_index(drop=True)\n",
        "arima_forecast_30 = pd.Series(arima_forecast[:30]).reset_index(drop=True)\n",
        "\n",
        "# Step 2: Create a combined dataframe\n",
        "ensemble_df = pd.DataFrame({\n",
        "    'date': prophet_forecast_30['ds'],\n",
        "    'Prophet_Yerevan': prophet_forecast_30['yhat'],\n",
        "    'ETS_Kabul': ets_forecast_30,\n",
        "    'ARIMA_Tirana': arima_forecast_30\n",
        "})\n",
        "\n",
        "# Step 3: Calculate ensemble average\n",
        "ensemble_df['Ensemble_Average'] = ensemble_df[['Prophet_Yerevan', 'ETS_Kabul', 'ARIMA_Tirana']].mean(axis=1)\n",
        "\n",
        "# Step 4: Plot the ensemble\n",
        "plt.figure(figsize=(12, 6))\n",
        "plt.plot(ensemble_df['date'], ensemble_df['Prophet_Yerevan'], label='Prophet (Yerevan)', linestyle='--')\n",
        "plt.plot(ensemble_df['date'], ensemble_df['ETS_Kabul'], label='ETS (Kabul)', linestyle='--')\n",
        "plt.plot(ensemble_df['date'], ensemble_df['ARIMA_Tirana'], label='ARIMA (Tirana)', linestyle='--')\n",
        "plt.plot(ensemble_df['date'], ensemble_df['Ensemble_Average'], label='Ensemble Average', linewidth=2, color='black')\n",
        "plt.title('30-Day Forecast Ensemble (Yerevan, Kabul, Tirana)')\n",
        "plt.xlabel('Date')\n",
        "plt.ylabel('Forecasted Temperature (°C)')\n",
        "plt.legend()\n",
        "plt.grid(True)\n",
        "plt.tight_layout()\n",
        "plt.show()\n"
      ],
      "metadata": {
        "id": "JqlxR-FRXH1N"
      },
      "execution_count": null,
      "outputs": []
    },
    {
      "cell_type": "markdown",
      "source": [
        "1. ARIMA Model – Tirana\n",
        "Model Used: ARIMA (AutoRegressive Integrated Moving Average)\n",
        "\n",
        "Preprocessing: Required stationarity; ADF test p-value ≈ 0.703 → differencing made it stationary (p-value ≈ 2.8e-19)\n",
        "\n",
        "Forecast: 30-day temperature forecast\n",
        "\n",
        "Evaluation:\n",
        "\n",
        "MAE: 0.0487\n",
        "\n",
        "RMSE: 0.0555\n",
        "\n",
        "Insights: Captured short-term variations well, but less robust to seasonal or non-linear patterns.\n",
        "\n",
        "2. ETS Model – Kabul\n",
        "Model Used: ETS (Exponential Smoothing – Holt-Winters)\n",
        "\n",
        "Preprocessing: No need for differencing or stationarity\n",
        "\n",
        "Forecast: 30-day forecast on raw data\n",
        "\n",
        "Evaluation:\n",
        "\n",
        "MAE: 0.0474\n",
        "\n",
        "RMSE: 0.0503\n",
        "\n",
        "Insights: Slightly better than ARIMA. ETS modeled the trend and smoother fluctuations effectively.\n",
        "\n",
        "3. Prophet Model – Yerevan\n",
        "Model Used: Prophet (Facebook’s additive time series model)\n",
        "\n",
        "Preprocessing: Converted epoch timestamps to datetime\n",
        "\n",
        "Forecast: 30-day forecast using trend + seasonality modeling\n",
        "\n",
        "Evaluation:\n",
        "\n",
        "MAE: 6.0674\n",
        "\n",
        "RMSE: 6.7243\n",
        "\n",
        "Insights: Prophet struggled in this case, likely due to noise, outliers, or lack of seasonality in Yerevan’s data. May benefit from more tuning or external regressors."
      ],
      "metadata": {
        "id": "O6GnLpwVJm0_"
      }
    },
    {
      "cell_type": "markdown",
      "source": [
        "# Advanced Assessment"
      ],
      "metadata": {
        "id": "EwK4DHFQJyII"
      }
    },
    {
      "cell_type": "markdown",
      "source": [
        "Advanced Analysis"
      ],
      "metadata": {
        "id": "fS5Yu3UeKDya"
      }
    },
    {
      "cell_type": "code",
      "source": [
        "# Let's start by filtering the dataset to focus only on Yerevan\n",
        "yerevan_df = df[df['location_name'] == 'Yerevan'].copy()\n",
        "\n",
        "# We’ll keep only the columns we care about for anomaly detection\n",
        "# 'temperature_celsius' for trend analysis and 'last_updated_epoch' to build a timeline\n",
        "yerevan_df = yerevan_df[['temperature_celsius', 'last_updated_epoch']].dropna().reset_index(drop=True)\n",
        "\n",
        "# Convert the UNIX epoch timestamp into readable datetime format\n",
        "# This makes it easier to visualize temperature trends over time\n",
        "yerevan_df['date'] = pd.to_datetime(yerevan_df['last_updated_epoch'], unit='s')\n",
        "\n",
        "# Set the date column as the index for easy time series operations\n",
        "yerevan_df.set_index('date', inplace=True)\n",
        "\n",
        "# Take a quick look at the prepared data\n",
        "yerevan_df.head()\n"
      ],
      "metadata": {
        "id": "bzZlJCYGQlHX"
      },
      "execution_count": null,
      "outputs": []
    },
    {
      "cell_type": "code",
      "source": [
        "import matplotlib.pyplot as plt\n",
        "import numpy as np\n",
        "\n",
        "# Set window size for rolling average (we’ll look at 7-day trends)\n",
        "rolling_window = 7\n",
        "\n",
        "# Calculate rolling mean and standard deviation\n",
        "yerevan_df['rolling_mean'] = yerevan_df['temperature_celsius'].rolling(window=rolling_window).mean()\n",
        "yerevan_df['rolling_std'] = yerevan_df['temperature_celsius'].rolling(window=rolling_window).std()\n",
        "\n",
        "# Set thresholds for anomaly detection\n",
        "# Anomalies are values 2 standard deviations above or below the rolling average\n",
        "yerevan_df['anomaly'] = np.where(\n",
        "    (yerevan_df['temperature_celsius'] > yerevan_df['rolling_mean'] + 2 * yerevan_df['rolling_std']) |\n",
        "    (yerevan_df['temperature_celsius'] < yerevan_df['rolling_mean'] - 2 * yerevan_df['rolling_std']),\n",
        "    True,\n",
        "    False\n",
        ")\n",
        "\n",
        "# Plot the results\n",
        "plt.figure(figsize=(14, 6))\n",
        "plt.plot(yerevan_df.index, yerevan_df['temperature_celsius'], label='Temperature', color='blue')\n",
        "plt.plot(yerevan_df.index, yerevan_df['rolling_mean'], label='7-Day Rolling Mean', color='orange')\n",
        "plt.scatter(yerevan_df[yerevan_df['anomaly']].index,\n",
        "            yerevan_df[yerevan_df['anomaly']]['temperature_celsius'],\n",
        "            color='red', label='Anomalies', s=50)\n",
        "plt.title('Temperature Anomalies in Yerevan')\n",
        "plt.xlabel('Date')\n",
        "plt.ylabel('Temperature (°C)')\n",
        "plt.legend()\n",
        "plt.grid(True)\n",
        "plt.tight_layout()\n",
        "plt.show()\n"
      ],
      "metadata": {
        "id": "i8PYvNqcRsOg"
      },
      "execution_count": null,
      "outputs": []
    },
    {
      "cell_type": "code",
      "source": [
        "# Select features of interest for environmental impact analysis\n",
        "env_impact_df = df_cleaned[[\n",
        "    'temperature_celsius', 'humidity',\n",
        "    'air_quality_PM2.5', 'air_quality_Ozone', 'air_quality_Carbon_Monoxide'\n",
        "]].dropna()\n",
        "\n",
        "# Compute correlation matrix to check how weather influences air quality\n",
        "correlation_matrix = env_impact_df.corr()\n",
        "\n",
        "# Display correlations\n",
        "plt.figure(figsize=(8, 6))\n",
        "sns.heatmap(correlation_matrix, annot=True, cmap='coolwarm', fmt=\".2f\")\n",
        "plt.title(\"Correlation between Weather and Air Quality Metrics\")\n",
        "plt.show()\n"
      ],
      "metadata": {
        "id": "BBRLYPkJSBAv"
      },
      "execution_count": null,
      "outputs": []
    },
    {
      "cell_type": "code",
      "source": [
        "# Set up a 1x3 subplot for side-by-side comparison\n",
        "fig, axs = plt.subplots(1, 3, figsize=(18, 5))\n",
        "\n",
        "#  Temperature vs PM2.5\n",
        "axs[0].scatter(env_impact_df['temperature_celsius'], env_impact_df['air_quality_PM2.5'], alpha=0.5)\n",
        "axs[0].set_title('Temperature vs PM2.5')\n",
        "axs[0].set_xlabel('Temperature (°C)')\n",
        "axs[0].set_ylabel('PM2.5')\n",
        "\n",
        "#  Temperature vs Ozone\n",
        "axs[1].scatter(env_impact_df['temperature_celsius'], env_impact_df['air_quality_Ozone'], alpha=0.5, color='orange')\n",
        "axs[1].set_title('Temperature vs Ozone')\n",
        "axs[1].set_xlabel('Temperature (°C)')\n",
        "axs[1].set_ylabel('Ozone')\n",
        "\n",
        "#  Humidity vs CO\n",
        "axs[2].scatter(env_impact_df['humidity'], env_impact_df['air_quality_Carbon_Monoxide'], alpha=0.5, color='green')\n",
        "axs[2].set_title('Humidity vs CO')\n",
        "axs[2].set_xlabel('Humidity (%)')\n",
        "axs[2].set_ylabel('Carbon Monoxide')\n",
        "\n",
        "plt.suptitle(\"Weather vs Air Quality: Scatter Plot Visualizations\", fontsize=16)\n",
        "plt.tight_layout()\n",
        "plt.show()\n"
      ],
      "metadata": {
        "id": "bX0VKx18SON-"
      },
      "execution_count": null,
      "outputs": []
    },
    {
      "cell_type": "code",
      "source": [
        "from sklearn.ensemble import RandomForestRegressor\n",
        "from sklearn.model_selection import train_test_split\n",
        "from sklearn.metrics import r2_score\n",
        "import seaborn as sns\n",
        "\n",
        "#  Step 1: Prepare feature set and target\n",
        "X = env_impact_df.drop(columns=['air_quality_PM2.5'])  # All features except target\n",
        "y = env_impact_df['air_quality_PM2.5']                 # Target variable\n",
        "\n",
        "# Step 2: Split the data\n",
        "X_train, X_test, y_train, y_test = train_test_split(X, y, test_size=0.2, random_state=42)\n",
        "\n",
        "#  Step 3: Train the model\n",
        "rf_model = RandomForestRegressor(n_estimators=100, random_state=42)\n",
        "rf_model.fit(X_train, y_train)\n",
        "\n",
        "#  Step 4: Evaluate model performance\n",
        "y_pred = rf_model.predict(X_test)\n",
        "print(\"Random Forest R² Score:\", r2_score(y_test, y_pred))\n",
        "\n",
        "#  Step 5: Get feature importances\n",
        "importances = rf_model.feature_importances_\n",
        "features = X.columns\n",
        "importance_df = pd.DataFrame({'Feature': features, 'Importance': importances})\n",
        "importance_df = importance_df.sort_values(by='Importance', ascending=False)\n",
        "\n",
        "#  Step 6: Visualize top features\n",
        "plt.figure(figsize=(10, 6))\n",
        "sns.barplot(x='Importance', y='Feature', data=importance_df.head(10))\n",
        "plt.title(\"Top 10 Important Features Affecting PM2.5 Levels\")\n",
        "plt.xlabel(\"Importance\")\n",
        "plt.ylabel(\"Feature\")\n",
        "plt.tight_layout()\n",
        "plt.show()\n"
      ],
      "metadata": {
        "id": "F0N16SW6SZ4-"
      },
      "execution_count": null,
      "outputs": []
    },
    {
      "cell_type": "code",
      "source": [
        "import plotly.express as px\n",
        "\n",
        "# subset of important columns\n",
        "map_df = df[['location_name', 'country', 'latitude', 'longitude', 'temperature_celsius', 'air_quality_PM2.5']].copy()\n",
        "\n",
        "# Drop any rows with missing coordinates or temp\n",
        "map_df.dropna(subset=['latitude', 'longitude', 'temperature_celsius'], inplace=True)\n",
        "\n",
        "# Plotting average temperature per city\n",
        "fig = px.scatter_geo(\n",
        "    map_df,\n",
        "    lat='latitude',\n",
        "    lon='longitude',\n",
        "    text='location_name',\n",
        "    hover_name='country',\n",
        "    color='temperature_celsius',\n",
        "    color_continuous_scale='RdYlBu_r',\n",
        "    title=' Global City Temperatures',\n",
        "    size_max=15,\n",
        "    template='plotly_dark',\n",
        "    projection='natural earth'\n",
        ")\n",
        "\n",
        "fig.update_layout(geo=dict(showland=True, landcolor=\"white\"), title_x=0.5)\n",
        "fig.show()\n"
      ],
      "metadata": {
        "id": "8Berz37KStZv"
      },
      "execution_count": null,
      "outputs": []
    },
    {
      "cell_type": "code",
      "source": [
        "# Grouping by country and computing mean weather & air quality stats\n",
        "country_stats = df.groupby('country')[['temperature_celsius', 'humidity', 'air_quality_PM2.5']].mean().reset_index()\n",
        "\n",
        "# Preview the summary\n",
        "country_stats.head()\n"
      ],
      "metadata": {
        "id": "YNnvYEliUQCv"
      },
      "execution_count": null,
      "outputs": []
    },
    {
      "cell_type": "code",
      "source": [
        "import seaborn as sns\n",
        "import matplotlib.pyplot as plt\n",
        "\n",
        "# Scatter plot to compare temperature and PM2.5 by country\n",
        "plt.figure(figsize=(12, 6))\n",
        "sns.scatterplot(data=country_stats, x='temperature_celsius', y='air_quality_PM2.5', hue='country', palette='tab20', legend=False)\n",
        "\n",
        "plt.title('Average Temperature vs PM2.5 by Country')\n",
        "plt.xlabel('Avg Temperature (°C)')\n",
        "plt.ylabel('Avg PM2.5 (Air Pollution)')\n",
        "plt.grid(True)\n",
        "plt.show()\n"
      ],
      "metadata": {
        "id": "gppUqFoEUBGz"
      },
      "execution_count": null,
      "outputs": []
    },
    {
      "cell_type": "code",
      "source": [
        "# Top 10 countries with highest PM2.5\n",
        "top_polluted = country_stats.sort_values(by='air_quality_PM2.5', ascending=False).head(10)\n",
        "\n",
        "plt.figure(figsize=(10, 6))\n",
        "sns.barplot(data=top_polluted, x='air_quality_PM2.5', y='country', palette='Reds_r')\n",
        "plt.title('Top 10 Countries with Highest PM2.5 Levels')\n",
        "plt.xlabel('Avg PM2.5')\n",
        "plt.ylabel('Country')\n",
        "plt.show()\n"
      ],
      "metadata": {
        "id": "fPt35itCUD8z"
      },
      "execution_count": null,
      "outputs": []
    },
    {
      "cell_type": "code",
      "source": [
        "from sklearn.model_selection import train_test_split\n",
        "from sklearn.ensemble import RandomForestRegressor\n",
        "\n",
        "# Select only numeric features\n",
        "numeric_df = df.select_dtypes(include='number').dropna()\n",
        "\n",
        "# Set target and features\n",
        "X = numeric_df.drop(columns=['temperature_celsius'])\n",
        "y = numeric_df['temperature_celsius']\n",
        "\n",
        "# Split the data\n",
        "X_train, X_test, y_train, y_test = train_test_split(X, y, test_size=0.2, random_state=42)\n"
      ],
      "metadata": {
        "id": "dQJbbeksUjBF"
      },
      "execution_count": null,
      "outputs": []
    },
    {
      "cell_type": "code",
      "source": [
        "# Train Random Forest model\n",
        "rf = RandomForestRegressor(n_estimators=100, random_state=42)\n",
        "rf.fit(X_train, y_train)\n",
        "\n",
        "# Extract feature importances\n",
        "importances = rf.feature_importances_\n",
        "features = X.columns\n",
        "\n",
        "# Sort and visualize\n",
        "importance_df = pd.DataFrame({'Feature': features, 'Importance': importances}).sort_values(by='Importance', ascending=False)\n",
        "importance_df.head(10)\n"
      ],
      "metadata": {
        "id": "P-bLQf-EUk7z"
      },
      "execution_count": null,
      "outputs": []
    },
    {
      "cell_type": "code",
      "source": [
        "import seaborn as sns\n",
        "import matplotlib.pyplot as plt\n",
        "\n",
        "plt.figure(figsize=(10, 6))\n",
        "sns.barplot(x='Importance', y='Feature', data=importance_df.head(10), palette='viridis')\n",
        "plt.title('Top 10 Important Features for Predicting Temperature')\n",
        "plt.xlabel('Importance Score')\n",
        "plt.ylabel('Feature')\n",
        "plt.tight_layout()\n",
        "plt.show()\n"
      ],
      "metadata": {
        "id": "2a312QaNUm_6",
        "collapsed": true
      },
      "execution_count": null,
      "outputs": []
    }
  ]
}